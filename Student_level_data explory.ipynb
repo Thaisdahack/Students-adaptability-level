{
 "cells": [
  {
   "cell_type": "code",
   "execution_count": 48,
   "id": "f5dd1cd4",
   "metadata": {
    "ExecuteTime": {
     "end_time": "2022-05-17T21:25:00.929962Z",
     "start_time": "2022-05-17T21:25:00.916194Z"
    }
   },
   "outputs": [],
   "source": [
    "import pandas as pd\n",
    "import matplotlib.pyplot as plt\n",
    "import seaborn as sns\n",
    "import random\n",
    "from sklearn.preprocessing import StandardScaler\n",
    "from sklearn.decomposition import PCA\n",
    "from sklearn import preprocessing"
   ]
  },
  {
   "cell_type": "code",
   "execution_count": 42,
   "id": "b7c13a1a",
   "metadata": {
    "ExecuteTime": {
     "end_time": "2022-05-17T20:43:25.568157Z",
     "start_time": "2022-05-17T20:43:24.641203Z"
    }
   },
   "outputs": [
    {
     "data": {
      "text/html": [
       "<div>\n",
       "<style scoped>\n",
       "    .dataframe tbody tr th:only-of-type {\n",
       "        vertical-align: middle;\n",
       "    }\n",
       "\n",
       "    .dataframe tbody tr th {\n",
       "        vertical-align: top;\n",
       "    }\n",
       "\n",
       "    .dataframe thead th {\n",
       "        text-align: right;\n",
       "    }\n",
       "</style>\n",
       "<table border=\"1\" class=\"dataframe\">\n",
       "  <thead>\n",
       "    <tr style=\"text-align: right;\">\n",
       "      <th></th>\n",
       "      <th>Gender</th>\n",
       "      <th>Age</th>\n",
       "      <th>Education Level</th>\n",
       "      <th>Institution Type</th>\n",
       "      <th>IT Student</th>\n",
       "      <th>Location</th>\n",
       "      <th>Load-shedding</th>\n",
       "      <th>Financial Condition</th>\n",
       "      <th>Internet Type</th>\n",
       "      <th>Network Type</th>\n",
       "      <th>Class Duration</th>\n",
       "      <th>Self Lms</th>\n",
       "      <th>Device</th>\n",
       "      <th>Adaptivity Level</th>\n",
       "    </tr>\n",
       "  </thead>\n",
       "  <tbody>\n",
       "    <tr>\n",
       "      <th>count</th>\n",
       "      <td>1205</td>\n",
       "      <td>1205</td>\n",
       "      <td>1205</td>\n",
       "      <td>1205</td>\n",
       "      <td>1205</td>\n",
       "      <td>1205</td>\n",
       "      <td>1205</td>\n",
       "      <td>1205</td>\n",
       "      <td>1205</td>\n",
       "      <td>1205</td>\n",
       "      <td>1205</td>\n",
       "      <td>1205</td>\n",
       "      <td>1205</td>\n",
       "      <td>1205</td>\n",
       "    </tr>\n",
       "    <tr>\n",
       "      <th>unique</th>\n",
       "      <td>2</td>\n",
       "      <td>6</td>\n",
       "      <td>3</td>\n",
       "      <td>2</td>\n",
       "      <td>2</td>\n",
       "      <td>2</td>\n",
       "      <td>2</td>\n",
       "      <td>3</td>\n",
       "      <td>2</td>\n",
       "      <td>3</td>\n",
       "      <td>3</td>\n",
       "      <td>2</td>\n",
       "      <td>3</td>\n",
       "      <td>3</td>\n",
       "    </tr>\n",
       "    <tr>\n",
       "      <th>top</th>\n",
       "      <td>Boy</td>\n",
       "      <td>21-25</td>\n",
       "      <td>School</td>\n",
       "      <td>Non Government</td>\n",
       "      <td>No</td>\n",
       "      <td>Yes</td>\n",
       "      <td>Low</td>\n",
       "      <td>Mid</td>\n",
       "      <td>Mobile Data</td>\n",
       "      <td>4G</td>\n",
       "      <td>1-3</td>\n",
       "      <td>No</td>\n",
       "      <td>Mobile</td>\n",
       "      <td>Moderate</td>\n",
       "    </tr>\n",
       "    <tr>\n",
       "      <th>freq</th>\n",
       "      <td>663</td>\n",
       "      <td>374</td>\n",
       "      <td>530</td>\n",
       "      <td>823</td>\n",
       "      <td>901</td>\n",
       "      <td>935</td>\n",
       "      <td>1004</td>\n",
       "      <td>878</td>\n",
       "      <td>695</td>\n",
       "      <td>775</td>\n",
       "      <td>840</td>\n",
       "      <td>995</td>\n",
       "      <td>1013</td>\n",
       "      <td>625</td>\n",
       "    </tr>\n",
       "  </tbody>\n",
       "</table>\n",
       "</div>"
      ],
      "text/plain": [
       "       Gender    Age Education Level Institution Type IT Student Location  \\\n",
       "count    1205   1205            1205             1205       1205     1205   \n",
       "unique      2      6               3                2          2        2   \n",
       "top       Boy  21-25          School   Non Government         No      Yes   \n",
       "freq      663    374             530              823        901      935   \n",
       "\n",
       "       Load-shedding Financial Condition Internet Type Network Type  \\\n",
       "count           1205                1205          1205         1205   \n",
       "unique             2                   3             2            3   \n",
       "top              Low                 Mid   Mobile Data           4G   \n",
       "freq            1004                 878           695          775   \n",
       "\n",
       "       Class Duration Self Lms  Device Adaptivity Level  \n",
       "count            1205     1205    1205             1205  \n",
       "unique              3        2       3                3  \n",
       "top               1-3       No  Mobile         Moderate  \n",
       "freq              840      995    1013              625  "
      ]
     },
     "execution_count": 42,
     "metadata": {},
     "output_type": "execute_result"
    }
   ],
   "source": [
    "#reading dataframe\n",
    "df = pd.read_csv('students_adaptability_level_online_education.csv')\n",
    "df.head()\n",
    "df.describe()"
   ]
  },
  {
   "cell_type": "markdown",
   "id": "af233baa",
   "metadata": {},
   "source": [
    "## Exploratory analysis"
   ]
  },
  {
   "cell_type": "code",
   "execution_count": 43,
   "id": "8a4269db",
   "metadata": {
    "ExecuteTime": {
     "end_time": "2022-05-17T20:43:31.478067Z",
     "start_time": "2022-05-17T20:43:31.398076Z"
    }
   },
   "outputs": [
    {
     "data": {
      "text/plain": [
       "(1205, 14)"
      ]
     },
     "execution_count": 43,
     "metadata": {},
     "output_type": "execute_result"
    }
   ],
   "source": [
    "df.value_counts()\n",
    "df.shape"
   ]
  },
  {
   "cell_type": "code",
   "execution_count": 44,
   "id": "7d370071",
   "metadata": {
    "ExecuteTime": {
     "end_time": "2022-05-17T20:43:33.217331Z",
     "start_time": "2022-05-17T20:43:33.191397Z"
    }
   },
   "outputs": [
    {
     "data": {
      "text/plain": [
       "Index(['Gender', 'Age', 'Education Level', 'Institution Type', 'IT Student',\n",
       "       'Location', 'Load-shedding', 'Financial Condition', 'Internet Type',\n",
       "       'Network Type', 'Class Duration', 'Self Lms', 'Device',\n",
       "       'Adaptivity Level'],\n",
       "      dtype='object')"
      ]
     },
     "execution_count": 44,
     "metadata": {},
     "output_type": "execute_result"
    }
   ],
   "source": [
    "df.columns"
   ]
  },
  {
   "cell_type": "code",
   "execution_count": 45,
   "id": "dd6ec2ef",
   "metadata": {
    "ExecuteTime": {
     "end_time": "2022-05-17T20:43:38.072661Z",
     "start_time": "2022-05-17T20:43:38.052334Z"
    }
   },
   "outputs": [],
   "source": [
    "#rename columns\n",
    "df.columns = ['Gender', 'Age', 'Education_level','Institution_Type','IT_Student', 'Location','Load_shedding',\n",
    "                    'Financial_Condition','Internet_Type','Network_Type','Class_Duration',\n",
    "                    'Self_Lms', 'Device','Adaptivity_Level']"
   ]
  },
  {
   "cell_type": "code",
   "execution_count": 46,
   "id": "34f0f39b",
   "metadata": {
    "ExecuteTime": {
     "end_time": "2022-05-17T20:43:44.722104Z",
     "start_time": "2022-05-17T20:43:44.635996Z"
    }
   },
   "outputs": [
    {
     "name": "stdout",
     "output_type": "stream",
     "text": [
      "<class 'pandas.core.frame.DataFrame'>\n",
      "RangeIndex: 1205 entries, 0 to 1204\n",
      "Data columns (total 14 columns):\n",
      " #   Column               Non-Null Count  Dtype \n",
      "---  ------               --------------  ----- \n",
      " 0   Gender               1205 non-null   object\n",
      " 1   Age                  1205 non-null   object\n",
      " 2   Education_level      1205 non-null   object\n",
      " 3   Institution_Type     1205 non-null   object\n",
      " 4   IT_Student           1205 non-null   object\n",
      " 5   Location             1205 non-null   object\n",
      " 6   Load_shedding        1205 non-null   object\n",
      " 7   Financial_Condition  1205 non-null   object\n",
      " 8   Internet_Type        1205 non-null   object\n",
      " 9   Network_Type         1205 non-null   object\n",
      " 10  Class_Duration       1205 non-null   object\n",
      " 11  Self_Lms             1205 non-null   object\n",
      " 12  Device               1205 non-null   object\n",
      " 13  Adaptivity_Level     1205 non-null   object\n",
      "dtypes: object(14)\n",
      "memory usage: 131.9+ KB\n"
     ]
    }
   ],
   "source": [
    "df.info()"
   ]
  },
  {
   "cell_type": "code",
   "execution_count": 30,
   "id": "bb54f22b",
   "metadata": {
    "ExecuteTime": {
     "end_time": "2022-05-17T18:29:10.130202Z",
     "start_time": "2022-05-17T18:29:10.105996Z"
    }
   },
   "outputs": [
    {
     "name": "stdout",
     "output_type": "stream",
     "text": [
      "['Boy' 'Girl']\n",
      "['21-25' '16-20' '11-15' '26-30' '6-10' '1-5']\n",
      "['University' 'College' 'School']\n",
      "['Non Government' 'Government']\n",
      "['No' 'Yes']\n",
      "['Yes' 'No']\n",
      "['Low' 'High']\n",
      "['Mid' 'Poor' 'Rich']\n",
      "['Wifi' 'Mobile Data']\n",
      "['4G' '3G' '2G']\n",
      "['3-6' '1-3' '0']\n",
      "['No' 'Yes']\n",
      "['Tab' 'Mobile' 'Computer']\n",
      "['Moderate' 'Low' 'High']\n"
     ]
    }
   ],
   "source": [
    "print(df.Gender.unique())\n",
    "print(df.Age.unique())\n",
    "print(df.Education_level.unique())\n",
    "print(df.Institution_Type.unique())\n",
    "print(df.IT_Student.unique())\n",
    "print(df.Location.unique())\n",
    "print(df.Load_shedding.unique())\n",
    "print(df.Financial_Condition.unique())\n",
    "print(df.Internet_Type.unique())\n",
    "print(df.Network_Type.unique())\n",
    "print(df.Class_Duration.unique())\n",
    "print(df.Self_Lms.unique())\n",
    "print(df.Device.unique())\n",
    "print(df.Adaptivity_Level.unique())\n",
    "\n"
   ]
  },
  {
   "cell_type": "markdown",
   "id": "376c566b",
   "metadata": {
    "ExecuteTime": {
     "end_time": "2022-05-17T18:24:01.011524Z",
     "start_time": "2022-05-17T18:24:00.993512Z"
    }
   },
   "source": []
  },
  {
   "cell_type": "code",
   "execution_count": 35,
   "id": "5445be73",
   "metadata": {
    "ExecuteTime": {
     "end_time": "2022-05-17T19:54:52.750007Z",
     "start_time": "2022-05-17T19:54:52.520734Z"
    }
   },
   "outputs": [],
   "source": [
    "f"
   ]
  },
  {
   "cell_type": "code",
   "execution_count": null,
   "id": "cc1f7d74",
   "metadata": {
    "ExecuteTime": {
     "end_time": "2022-05-17T19:55:37.338652Z",
     "start_time": "2022-05-17T19:55:37.325687Z"
    }
   },
   "outputs": [],
   "source": []
  },
  {
   "cell_type": "code",
   "execution_count": null,
   "id": "dbc43d12",
   "metadata": {
    "ExecuteTime": {
     "end_time": "2022-05-17T20:15:03.170371Z",
     "start_time": "2022-05-17T20:15:03.130477Z"
    }
   },
   "outputs": [],
   "source": []
  }
 ],
 "metadata": {
  "kernelspec": {
   "display_name": "Python 3",
   "language": "python",
   "name": "python3"
  },
  "language_info": {
   "codemirror_mode": {
    "name": "ipython",
    "version": 3
   },
   "file_extension": ".py",
   "mimetype": "text/x-python",
   "name": "python",
   "nbconvert_exporter": "python",
   "pygments_lexer": "ipython3",
   "version": "3.8.8"
  },
  "toc": {
   "base_numbering": 1,
   "nav_menu": {},
   "number_sections": true,
   "sideBar": true,
   "skip_h1_title": false,
   "title_cell": "Table of Contents",
   "title_sidebar": "Contents",
   "toc_cell": false,
   "toc_position": {},
   "toc_section_display": true,
   "toc_window_display": false
  },
  "varInspector": {
   "cols": {
    "lenName": 16,
    "lenType": 16,
    "lenVar": 40
   },
   "kernels_config": {
    "python": {
     "delete_cmd_postfix": "",
     "delete_cmd_prefix": "del ",
     "library": "var_list.py",
     "varRefreshCmd": "print(var_dic_list())"
    },
    "r": {
     "delete_cmd_postfix": ") ",
     "delete_cmd_prefix": "rm(",
     "library": "var_list.r",
     "varRefreshCmd": "cat(var_dic_list()) "
    }
   },
   "types_to_exclude": [
    "module",
    "function",
    "builtin_function_or_method",
    "instance",
    "_Feature"
   ],
   "window_display": false
  }
 },
 "nbformat": 4,
 "nbformat_minor": 5
}
